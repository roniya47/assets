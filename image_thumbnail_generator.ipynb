{
 "cells": [
  {
   "cell_type": "code",
   "execution_count": 2,
   "metadata": {},
   "outputs": [
    {
     "name": "stdout",
     "output_type": "stream",
     "text": [
      "Defaulting to user installation because normal site-packages is not writeable\n",
      "Collecting pillow\n",
      "  Downloading pillow-11.0.0-cp39-cp39-macosx_11_0_arm64.whl (3.0 MB)\n",
      "\u001b[K     |████████████████████████████████| 3.0 MB 817 kB/s eta 0:00:01\n",
      "\u001b[?25hInstalling collected packages: pillow\n",
      "Successfully installed pillow-11.0.0\n",
      "\u001b[33mWARNING: You are using pip version 21.2.4; however, version 24.3.1 is available.\n",
      "You should consider upgrading via the '/Applications/Xcode.app/Contents/Developer/usr/bin/python3 -m pip install --upgrade pip' command.\u001b[0m\n",
      "Note: you may need to restart the kernel to use updated packages.\n"
     ]
    }
   ],
   "source": [
    "pip install pillow"
   ]
  },
  {
   "cell_type": "code",
   "execution_count": 1,
   "metadata": {},
   "outputs": [
    {
     "name": "stdout",
     "output_type": "stream",
     "text": [
      "Thumbnail created for: Yogamvar.png\n",
      "Thumbnail created for: BhagwanPau.png\n",
      "Thumbnail created for: Pratappur.JPG\n",
      "Thumbnail created for: Swoyambhu Stupa.png\n",
      "Thumbnail created for: VairochanaBuddha.png\n",
      "Thumbnail created for: DharmaGranthiBhairab.JPG\n",
      "Thumbnail created for: vairochana.png\n",
      "Thumbnail created for: GroupofChaitya.JPG\n",
      "Thumbnail created for: AgamChhen.JPG\n",
      "Thumbnail created for: amoghasiddhiBuddha.png\n",
      "Thumbnail created for: swoyambhunath3.png\n",
      "Thumbnail created for: HaratiMaa.png\n",
      "Thumbnail created for: SamhyanguMahabihar.JPG\n",
      "Thumbnail created for: DevaDharmaMahabihar.jpg\n",
      "Thumbnail created for: AmitabhaBuddha.png\n",
      "Thumbnail created for: vayupur.png\n",
      "Thumbnail created for: HariHariHariVahanaLokeshvara.JPG\n",
      "Thumbnail created for: AaryaTara.png\n",
      "Thumbnail created for: swoyambhunath1.jpg\n",
      "Thumbnail created for: ratnaSambhava.png\n",
      "Thumbnail created for: VasubhanduMemorialChaitya.JPG\n",
      "Thumbnail created for: swayambhunath2.png\n",
      "Thumbnail created for: KarmaRajaMahabihar.jpg\n",
      "Thumbnail created for: AnandakutiMahabihar.jpg\n",
      "Thumbnail created for: Sakhwaga.JPG\n",
      "Thumbnail created for: Nagpur.JPG\n",
      "Thumbnail created for: 10thShamarpaBell.JPG\n",
      "Thumbnail created for: DevAvatar.JPG\n",
      "Thumbnail created for: BahuMangaldwarChaitya.JPG\n",
      "Thumbnail created for: ChaturmukhiChaitya.JPG\n",
      "Thumbnail created for: Shantipur.JPG\n",
      "Thumbnail created for: DharmadhatuMandala.JPG\n",
      "Thumbnail created for: 5SymbolicStatue.JPG\n",
      "Thumbnail created for: GyanmalaBhajanSattal.JPG\n",
      "Thumbnail created for: SaptalochaniTara.jpg\n",
      "Thumbnail created for: Birupakshya.JPG\n",
      "Thumbnail created for: VajradhatiTara.png\n",
      "Thumbnail created for: PulaunSyangu.JPG\n",
      "Thumbnail created for: PavanBhairav.JPG\n",
      "Thumbnail created for: MaamakiTara.JPG\n",
      "Thumbnail created for: AmoghashidhiBuddha.png\n",
      "Thumbnail created for: Agnipur.JPG\n",
      "Thumbnail created for: Anantapur.JPG\n",
      "Thumbnail created for: Basundhara.JPG\n",
      "Thumbnail created for: RatnasambhavaBuddha.png\n",
      "Thumbnail created for: JyotiKritiMahabihar.jpg\n",
      "Thumbnail created for: AkshyobhaBuddha.png\n",
      "Thumbnail created for: JanmaDwar.JPG\n",
      "Thumbnail created for: WorldPeacePond.JPG\n",
      "Thumbnail created for: akshobhyaBuddha.png\n",
      "Thumbnail created for: PadhmaniTara.jpg\n",
      "Thumbnail created for: Sundial.JPG\n",
      "Thumbnail created for: ManjushreePaduka.png\n",
      "Thumbnail created for: RamyankuttaChaitya.JPG\n"
     ]
    }
   ],
   "source": [
    "import os\n",
    "from PIL import Image\n",
    "\n",
    "def create_thumbnails(input_folder, output_folder, thumbnail_size=(150, 150)):\n",
    "    \"\"\"\n",
    "    Create low-resolution thumbnails of images in the input folder\n",
    "    and save them to the output folder.\n",
    "\n",
    "    Args:\n",
    "        input_folder (str): Path to the folder containing the original images.\n",
    "        output_folder (str): Path to the folder to save the thumbnails.\n",
    "        thumbnail_size (tuple): Size of the thumbnails (width, height).\n",
    "    \"\"\"\n",
    "    # Ensure output folder exists\n",
    "    if not os.path.exists(output_folder):\n",
    "        os.makedirs(output_folder)\n",
    "    \n",
    "    # Loop through all files in the input folder\n",
    "    for file_name in os.listdir(input_folder):\n",
    "        input_file_path = os.path.join(input_folder, file_name)\n",
    "\n",
    "        # Check if the file is an image\n",
    "        if os.path.isfile(input_file_path) and file_name.lower().endswith(('.png', '.jpg', '.jpeg', '.gif', '.bmp', '.tiff', '.webp')):\n",
    "            try:\n",
    "                # Open the image\n",
    "                with Image.open(input_file_path) as img:\n",
    "                    # Convert RGBA to RGB if needed (e.g., for PNG with transparency)\n",
    "                    if img.mode == 'RGBA':\n",
    "                        img = img.convert('RGB')\n",
    "                    \n",
    "                    # Create the thumbnail\n",
    "                    img.thumbnail(thumbnail_size)\n",
    "                    \n",
    "                    # Generate output file path (same name, same format as input)\n",
    "                    output_file_path = os.path.join(output_folder, file_name)\n",
    "                    \n",
    "                    # Save the thumbnail in the original format\n",
    "                    img.save(output_file_path, img.format)\n",
    "                    \n",
    "                    print(f\"Thumbnail created for: {file_name}\")\n",
    "            except Exception as e:\n",
    "                print(f\"Error processing {file_name}: {e}\")\n",
    "\n",
    "# Example Usage\n",
    "input_folder_path = \"./photos\"\n",
    "output_folder_path = \"./thumbnail\"\n",
    "create_thumbnails(input_folder_path, output_folder_path, thumbnail_size=(500, 500))\n"
   ]
  }
 ],
 "metadata": {
  "kernelspec": {
   "display_name": "Python 3",
   "language": "python",
   "name": "python3"
  },
  "language_info": {
   "codemirror_mode": {
    "name": "ipython",
    "version": 3
   },
   "file_extension": ".py",
   "mimetype": "text/x-python",
   "name": "python",
   "nbconvert_exporter": "python",
   "pygments_lexer": "ipython3",
   "version": "3.9.6"
  }
 },
 "nbformat": 4,
 "nbformat_minor": 2
}
